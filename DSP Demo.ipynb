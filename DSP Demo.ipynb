{
 "cells": [
  {
   "cell_type": "code",
   "execution_count": null,
   "metadata": {},
   "outputs": [],
   "source": [
    "import os, os.path\n",
    "import numpy as np\n",
    "import pandas as pd\n",
    "import matplotlib.pyplot as plt\n",
    "from sklearn import preprocessing\n",
    "plt.rcParams['figure.figsize'] = [20, 10]"
   ]
  },
  {
   "cell_type": "markdown",
   "metadata": {},
   "source": [
    "<h3>Create dataframe by combining csv and case files located in /data folder</h3>"
   ]
  },
  {
   "cell_type": "code",
   "execution_count": null,
   "metadata": {
    "scrolled": true
   },
   "outputs": [],
   "source": [
    "dataPath = os.getcwd() + '/data/data3/'\n",
    "caseCount = len(os.listdir(dataPath))\n",
    "data = []\n",
    "try:\n",
    "    os.remove(dataPath + \".DS_Store\")\n",
    "except:\n",
    "    print(\"No file DS_Store\")\n",
    "for filename in os.listdir(dataPath):\n",
    "    f = open(os.path.join(dataPath, filename), encoding='utf-8')\n",
    "    data.append([filename.replace('.txt', ''), f.read()])\n",
    "\n",
    "verdict_df = pd.DataFrame(data, columns=['Case ID', 'Case Text'])\n",
    "cases_df = pd.read_csv('./cases3.csv', usecols = ['GerechtelijkProductType', 'Case ID', 'Proceduresoorten', 'Publicatiedatum', 'Rechtsgebieden', 'Tekstfragment', 'Titel', 'Uitspraakdatum', 'UitspraakdatumType'])\n",
    "merged_df = cases_df.join(verdict_df.set_index('Case ID'), on='Case ID', how='left')\n"
   ]
  },
  {
   "cell_type": "markdown",
   "metadata": {},
   "source": [
    "<h3>Function to count mentions of keywords in court cases</h3>"
   ]
  },
  {
   "cell_type": "code",
   "execution_count": null,
   "metadata": {},
   "outputs": [],
   "source": [
    "def count_mentions(word_arr):\n",
    "    dates = []\n",
    "    counts = []\n",
    "    for i in range(len(merged_df)):\n",
    "        current = merged_df.iloc[i]\n",
    "        current_date = current[\"Uitspraakdatum\"]\n",
    "        \n",
    "        current_case_text = current['Case Text']\n",
    "        occurrences = 0\n",
    "        for i in word_arr:\n",
    "            occurrences = occurrences + current_case_text.lower().count(i.lower())\n",
    "        dates.append(current_date)\n",
    "        counts.append(occurrences)\n",
    "\n",
    "    dates = pd.Series(dates)\n",
    "    counts = pd.Series(counts)\n",
    "    frame = { 'date': dates, 'count': counts, 'type': word_arr[0] }\n",
    "    results = pd.DataFrame(frame)\n",
    "    return results"
   ]
  },
  {
   "cell_type": "markdown",
   "metadata": {},
   "source": [
    "<h4>And function to count total cases</h4>"
   ]
  },
  {
   "cell_type": "code",
   "execution_count": null,
   "metadata": {},
   "outputs": [],
   "source": [
    "def count_cases(word_arr):\n",
    "    dates = []\n",
    "    counts = []\n",
    "    for i in range(len(merged_df)):\n",
    "        current = merged_df.iloc[i]\n",
    "        current_date = current['Uitspraakdatum']\n",
    "        current_case_text = current['Case Text']\n",
    "        occurrences = 0\n",
    "        if any(x.lower() in current_case_text.lower() for x in word_arr):\n",
    "            occurrences = 1\n",
    "        dates.append(current_date)\n",
    "        counts.append(occurrences)\n",
    "    \n",
    "    dates = pd.Series(dates)\n",
    "    counts = pd.Series(counts)\n",
    "    frame = { 'date': dates, 'count': counts}\n",
    "    results = pd.DataFrame(frame)\n",
    "    return results"
   ]
  },
  {
   "cell_type": "markdown",
   "metadata": {},
   "source": [
    "<h4>Example of mentions of XTC and related keywords in court cases</h4>"
   ]
  },
  {
   "cell_type": "code",
   "execution_count": null,
   "metadata": {
    "scrolled": false
   },
   "outputs": [],
   "source": [
    "mdma_results = count_mentions(['XTC', 'ecstacy', 'mdma'])\n",
    "mdma_results.set_index('date', inplace=True)\n",
    "mdma_results.index = pd.to_datetime(mdma_results.index)\n",
    "daily_mdma_result = mdma_results.resample('1D').sum()\n",
    "\n",
    "plt.plot(daily_mdma_result[6000:])\n",
    "plt.title(\"Monthly mentions of XTC / ecstacy\")\n",
    "plt.show()"
   ]
  },
  {
   "cell_type": "code",
   "execution_count": null,
   "metadata": {},
   "outputs": [],
   "source": [
    "PMK_results = count_mentions(['PMK','piperonylmethylketon'])\n",
    "PMK_results.set_index('date', inplace=True)\n",
    "PMK_results.index = pd.to_datetime(PMK_results.index)\n",
    "monthly_PMK_results = PMK_results.resample('1M').sum()\n",
    "final = monthly_PMK_results.rolling(window=6).mean()[220:]\n",
    "final['date'] = final.index\n",
    "print(final)\n",
    "\n",
    "print(len(final))\n",
    "bb = pd.DataFrame()\n",
    "print(len(bb))"
   ]
  },
  {
   "cell_type": "code",
   "execution_count": null,
   "metadata": {},
   "outputs": [],
   "source": [
    "monthly_PMK_results['type'] = 'pmk'\n",
    "print(monthly_PMK_results)\n",
    "\n",
    "monthly_XTC_results['type'] = 'xtc'\n",
    "print(monthly_XTC_results)\n",
    "\n",
    "bb = monthly_PMK_results.append(monthly_XTC_results)\n",
    "print(bb)"
   ]
  },
  {
   "cell_type": "code",
   "execution_count": null,
   "metadata": {},
   "outputs": [],
   "source": [
    "XTC_results = count_mentions(['PMK','piperonylmethylketon'])\n",
    "XTC_results.set_index('date', inplace=True)\n",
    "XTC_results.index = pd.to_datetime(PMK_results.index)\n",
    "monthly_XTC_results = PMK_results.resample('1M').sum()\n",
    "\n",
    "print(monthly_XTC_results)"
   ]
  },
  {
   "cell_type": "code",
   "execution_count": null,
   "metadata": {},
   "outputs": [],
   "source": [
    "print(monthly_XTC_results['count'])\n",
    "final[\"XTC\"] = monthly_XTC_results['count']\n",
    "print(final)"
   ]
  },
  {
   "cell_type": "markdown",
   "metadata": {},
   "source": [
    "<p>As you can see, there is a large spike in 2016, we can see what cases mentioned the keywords a lot.</p>"
   ]
  },
  {
   "cell_type": "code",
   "execution_count": null,
   "metadata": {},
   "outputs": [],
   "source": [
    "def get_case_that_exceed_count(word_arr, count):\n",
    "    case_id = []\n",
    "    for i in range(len(merged_df)):\n",
    "        current = merged_df.iloc[i]\n",
    "        current_case_text = current['Case Text']\n",
    "        occurrences = 0\n",
    "        for i in word_arr:\n",
    "            occurrences = occurrences + current_case_text.lower().count(i.lower())\n",
    "        if(occurrences > count):\n",
    "            parsedId = current['Case ID'].replace('-', ':')\n",
    "            print(occurrences , ':', parsedId, current['Uitspraakdatum'])\n",
    "            case_id.append(parsedId)\n",
    "        \n",
    "    return case_id"
   ]
  },
  {
   "cell_type": "code",
   "execution_count": null,
   "metadata": {},
   "outputs": [],
   "source": [
    "case = get_case_that_exceed_count(['XTC', 'ecstacy', 'mdma'], 120)"
   ]
  },
  {
   "cell_type": "markdown",
   "metadata": {},
   "source": [
    "Go to https://uitspraken.rechtspraak.nl/inziendocument?id= + case id "
   ]
  },
  {
   "cell_type": "markdown",
   "metadata": {},
   "source": [
    "<h1>Sewage data from ERIC</h1>https://opendata.eawag.ch/dataset/illicit-drugs-in-wastewater-score-initiative"
   ]
  },
  {
   "cell_type": "code",
   "execution_count": null,
   "metadata": {},
   "outputs": [],
   "source": [
    "mdma_wastewater = pd.read_csv('./sewerdata/score_mdma_wastewater_loads_2011_2017.csv', delimiter=';')\n",
    "mdma_wastewater = pd.DataFrame(mdma_wastewater).fillna(0)\n",
    "nl_mdma_wastewater = mdma_wastewater.loc[mdma_wastewater['country'] == 'NL']\n",
    "nl_mdma_wastewater = nl_mdma_wastewater.append(nl_mdma_wastewater.sum(numeric_only=True), ignore_index=True)\n",
    "columns_to_drop = ['2011 population', '2012 population','2013 population','2014 population','2015 population','2016 population','2017 population']\n",
    "nl_mdma_wastewater = nl_mdma_wastewater.drop(columns = columns_to_drop)\n",
    "nl_mdma_wastewater = nl_mdma_wastewater.iloc[5][2:]\n",
    "new_index = ['2011', '2012', '2013', '2014', '2015', '2016', '2017']\n",
    "nl_mdma_wastewater.index = new_index\n",
    "\n",
    "# print(nl_mdma_wastewater)\n",
    "plt.plot(nl_mdma_wastewater)\n",
    "plt.title(\"MDMA in wastewater in NL\")\n"
   ]
  },
  {
   "cell_type": "code",
   "execution_count": null,
   "metadata": {
    "scrolled": false
   },
   "outputs": [],
   "source": [
    "amphetamine_wastewater = pd.read_csv('./sewerdata/score_amphetamine_wastewater_loads_2011_2017.csv', delimiter=';')\n",
    "amphetamine_wastewater = pd.DataFrame(amphetamine_wastewater).fillna(0)\n",
    "\n",
    "nl_amphetamine_wastewater = amphetamine_wastewater.loc[amphetamine_wastewater['country'] == 'NL']\n",
    "nl_amphetamine_wastewater = nl_amphetamine_wastewater.append(nl_amphetamine_wastewater.sum(numeric_only=True), ignore_index=True)\n",
    "columns_to_drop = ['2011 population', '2012 population','2013 population','2014 population','2015 population','2016 population','2017 population']\n",
    "nl_amphetamine_wastewater = nl_amphetamine_wastewater.drop(columns = columns_to_drop)\n",
    "nl_amphetamine_wastewater = nl_amphetamine_wastewater.iloc[5][2:9]\n",
    "new_index = ['2011', '2012', '2013', '2014', '2015', '2016', '2017']\n",
    "nl_amphetamine_wastewater.index = new_index\n",
    "\n",
    "# print(nl_amphetamine_wastewater)\n",
    "plt.plot(nl_amphetamine_wastewater)\n",
    "plt.title(\"Amphetamine in wastewater in NL\")\n",
    "\n"
   ]
  },
  {
   "cell_type": "markdown",
   "metadata": {},
   "source": [
    "Both spikes (2014 mdma and 2016 amphetamines) are in Eindhoven"
   ]
  },
  {
   "cell_type": "code",
   "execution_count": null,
   "metadata": {},
   "outputs": [],
   "source": [
    "combined_wastewater = pd.read_csv('./sewerdata/score_combined_doses_2011_2017.csv', delimiter=';')\n",
    "combined_wastewater = pd.DataFrame(combined_wastewater).fillna(0)\n",
    "\n",
    "total_combined_wastewater = combined_wastewater\n",
    "total_combined_wastewater = total_combined_wastewater.append(total_combined_wastewater.mean(numeric_only=True), ignore_index=True)\n",
    "columns_to_drop = ['2011 population', '2012 population','2013 population','2014 population','2015 population','2016 population','2017 population']\n",
    "total_combined_wastewater = total_combined_wastewater.drop(columns = columns_to_drop)\n",
    "total_combined_wastewater = total_combined_wastewater[[\"2011 mean\", \"2012 mean\",\"2013 mean\",\"2014 mean\",\"2015 mean\",\"2016 mean\",\"2017 mean\"]]\n",
    "total_combined_wastewater = total_combined_wastewater.iloc[-1]\n",
    "new_index = ['2011', '2012', '2013', '2014', '2015', '2016', '2017']\n",
    "total_combined_wastewater.index = new_index\n",
    "\n",
    "plt.plot(total_combined_wastewater, label=\"Wastewater\")\n",
    "plt.title(\"Drugs found in wastewater in mg/1000 per person/day\")"
   ]
  },
  {
   "cell_type": "code",
   "execution_count": null,
   "metadata": {},
   "outputs": [],
   "source": []
  },
  {
   "cell_type": "code",
   "execution_count": null,
   "metadata": {},
   "outputs": [],
   "source": []
  },
  {
   "cell_type": "markdown",
   "metadata": {},
   "source": [
    "<h1>Data from 'Wastewater analysis and drugs — a European multi-city study' </h1>https://www.emcdda.europa.eu/publications/html/pods/waste-water-analysis_en#source-data "
   ]
  },
  {
   "cell_type": "code",
   "execution_count": null,
   "metadata": {},
   "outputs": [],
   "source": [
    "yearIndex = ['2011', '2012', '2013', '2014', '2015', '2016', '2017', '2018', '2019', '2020']"
   ]
  },
  {
   "cell_type": "markdown",
   "metadata": {},
   "source": [
    "<h3> Amphetamines NL Daily</h3>"
   ]
  },
  {
   "cell_type": "code",
   "execution_count": null,
   "metadata": {},
   "outputs": [],
   "source": [
    "amphetamine_2011 = pd.read_csv('./sewerdata/emcdda/amphetamine/WW-data-amphetamine-2011.csv', delimiter=',')\n",
    "amphetamine_2012 = pd.read_csv('./sewerdata/emcdda/amphetamine/WW-data-amphetamine-2012.csv', delimiter=',')\n",
    "amphetamine_2013 = pd.read_csv('./sewerdata/emcdda/amphetamine/WW-data-amphetamine-2013.csv', delimiter=',')\n",
    "amphetamine_2014 = pd.read_csv('./sewerdata/emcdda/amphetamine/WW-data-amphetamine-2014.csv', delimiter=',')\n",
    "amphetamine_2015 = pd.read_csv('./sewerdata/emcdda/amphetamine/WW-data-amphetamine-2015.csv', delimiter=',')\n",
    "amphetamine_2016 = pd.read_csv('./sewerdata/emcdda/amphetamine/WW-data-amphetamine-2016.csv', delimiter=',')\n",
    "amphetamine_2017 = pd.read_csv('./sewerdata/emcdda/amphetamine/WW-data-amphetamine-2017.csv', delimiter=',')\n",
    "amphetamine_2018 = pd.read_csv('./sewerdata/emcdda/amphetamine/WW-data-amphetamine-2018.csv', delimiter=',')\n",
    "amphetamine_2019 = pd.read_csv('./sewerdata/emcdda/amphetamine/WW-data-amphetamine-2019.csv', delimiter=',')\n",
    "amphetamine_2020 = pd.read_csv('./sewerdata/emcdda/amphetamine/WW-data-amphetamine-2020.csv', delimiter=',')\n",
    "\n",
    "amphetamine_2011_NL_daily = amphetamine_2011[amphetamine_2011['country'] == \"NL\"][['Daily mean']]\n",
    "amphetamine_2011_NL_daily_mean = amphetamine_2011_NL_daily.mean().iloc[0]\n",
    "\n",
    "amphetamine_2012_NL_daily = amphetamine_2012[amphetamine_2012['country'] == \"NL\"][['Daily mean']]\n",
    "amphetamine_2012_NL_daily_mean = amphetamine_2012_NL_daily.mean().iloc[0]\n",
    "\n",
    "amphetamine_2013_NL_daily = amphetamine_2013[amphetamine_2013['country'] == \"NL\"][['Daily mean']]\n",
    "amphetamine_2013_NL_daily_mean = amphetamine_2013_NL_daily.mean().iloc[0]\n",
    "\n",
    "amphetamine_2014_NL_daily = amphetamine_2014[amphetamine_2014['country'] == \"NL\"][['Daily mean']]\n",
    "amphetamine_2014_NL_daily_mean = amphetamine_2014_NL_daily.mean().iloc[0]\n",
    "\n",
    "amphetamine_2015_NL_daily = amphetamine_2015[amphetamine_2015['country'] == \"NL\"][['Daily mean']]\n",
    "amphetamine_2015_NL_daily_mean = amphetamine_2015_NL_daily.mean().iloc[0]\n",
    "\n",
    "amphetamine_2016_NL_daily = amphetamine_2016[amphetamine_2016['country'] == \"NL\"][['Daily mean']]\n",
    "amphetamine_2016_NL_daily_mean = amphetamine_2016_NL_daily.mean().iloc[0]\n",
    "\n",
    "amphetamine_2017_NL_daily = amphetamine_2017[amphetamine_2017['country'] == \"NL\"][['Daily mean']]\n",
    "amphetamine_2017_NL_daily_mean = amphetamine_2017_NL_daily.mean().iloc[0]\n",
    "\n",
    "amphetamine_2018_NL_daily = amphetamine_2018[amphetamine_2018['country'] == \"NL\"][['Daily mean']]\n",
    "amphetamine_2018_NL_daily_mean = amphetamine_2018_NL_daily.mean().iloc[0]\n",
    "\n",
    "amphetamine_2019_NL_daily = amphetamine_2019[amphetamine_2019['country'] == \"NL\"][['Daily mean']]\n",
    "amphetamine_2019_NL_daily_mean = amphetamine_2019_NL_daily.mean().iloc[0]\n",
    "\n",
    "amphetamine_2020_NL_daily = amphetamine_2020[amphetamine_2020['country'] == \"NL\"][['Daily mean']]\n",
    "amphetamine_2020_NL_daily_mean = amphetamine_2020_NL_daily.mean().iloc[0]\n",
    "\n",
    "amphetamine_series = pd.Series([amphetamine_2011_NL_daily_mean, amphetamine_2012_NL_daily_mean, amphetamine_2013_NL_daily_mean, amphetamine_2014_NL_daily_mean, amphetamine_2015_NL_daily_mean, amphetamine_2016_NL_daily_mean, amphetamine_2017_NL_daily_mean, amphetamine_2018_NL_daily_mean, amphetamine_2019_NL_daily_mean, amphetamine_2020_NL_daily_mean])\n",
    "amphetamine_series.index = yearIndex\n",
    "# plt.plot(amphetamine_series)\n"
   ]
  },
  {
   "cell_type": "markdown",
   "metadata": {},
   "source": [
    "<h3>Methamphetamines in NL daily</h3>"
   ]
  },
  {
   "cell_type": "code",
   "execution_count": null,
   "metadata": {},
   "outputs": [],
   "source": [
    "methamphetamine_2011 = pd.read_csv('./sewerdata/emcdda/methamphetamine/WW-data-methamphetamine-2011.csv', delimiter=',')\n",
    "methamphetamine_2012 = pd.read_csv('./sewerdata/emcdda/methamphetamine/WW-data-methamphetamine-2012.csv', delimiter=',')\n",
    "methamphetamine_2013 = pd.read_csv('./sewerdata/emcdda/methamphetamine/WW-data-methamphetamine-2013.csv', delimiter=',')\n",
    "methamphetamine_2014 = pd.read_csv('./sewerdata/emcdda/methamphetamine/WW-data-methamphetamine-2014.csv', delimiter=',')\n",
    "methamphetamine_2015 = pd.read_csv('./sewerdata/emcdda/methamphetamine/WW-data-methamphetamine-2015.csv', delimiter=',')\n",
    "methamphetamine_2016 = pd.read_csv('./sewerdata/emcdda/methamphetamine/WW-data-methamphetamine-2016.csv', delimiter=',')\n",
    "methamphetamine_2017 = pd.read_csv('./sewerdata/emcdda/methamphetamine/WW-data-methamphetamine-2017.csv', delimiter=',')\n",
    "methamphetamine_2018 = pd.read_csv('./sewerdata/emcdda/methamphetamine/WW-data-methamphetamine-2018.csv', delimiter=',')\n",
    "methamphetamine_2019 = pd.read_csv('./sewerdata/emcdda/methamphetamine/WW-data-methamphetamine-2019.csv', delimiter=',')\n",
    "methamphetamine_2020 = pd.read_csv('./sewerdata/emcdda/methamphetamine/WW-data-methamphetamine-2020.csv', delimiter=',')\n",
    "\n",
    "methamphetamine_2011_NL_daily = methamphetamine_2011[methamphetamine_2011['country'] == \"NL\"][['methamphetamineMean2011']]\n",
    "methamphetamine_2011_NL_daily_mean = methamphetamine_2011_NL_daily.mean().iloc[0]\n",
    "\n",
    "methamphetamine_2012_NL_daily = methamphetamine_2012[methamphetamine_2012['country'] == \"NL\"][['Daily mean']]\n",
    "methamphetamine_2012_NL_daily_mean = methamphetamine_2012_NL_daily.mean().iloc[0]\n",
    "\n",
    "methamphetamine_2013_NL_daily = methamphetamine_2013[methamphetamine_2013['country'] == \"NL\"][['Daily mean']]\n",
    "methamphetamine_2013_NL_daily_mean = methamphetamine_2013_NL_daily.mean().iloc[0]\n",
    "\n",
    "methamphetamine_2014_NL_daily = methamphetamine_2014[methamphetamine_2014['country'] == \"NL\"][['Daily mean']]\n",
    "methamphetamine_2014_NL_daily_mean = methamphetamine_2014_NL_daily.mean().iloc[0]\n",
    "\n",
    "methamphetamine_2015_NL_daily = methamphetamine_2015[methamphetamine_2015['country'] == \"NL\"][['Daily mean']]\n",
    "methamphetamine_2015_NL_daily_mean = methamphetamine_2015_NL_daily.mean().iloc[0]\n",
    "\n",
    "methamphetamine_2016_NL_daily = methamphetamine_2016[methamphetamine_2016['country'] == \"NL\"][['Daily mean']]\n",
    "methamphetamine_2016_NL_daily_mean = methamphetamine_2016_NL_daily.mean().iloc[0]\n",
    "\n",
    "methamphetamine_2017_NL_daily = methamphetamine_2017[methamphetamine_2017['country'] == \"NL\"][['Daily mean']]\n",
    "methamphetamine_2017_NL_daily_mean = methamphetamine_2017_NL_daily.mean().iloc[0]\n",
    "\n",
    "methamphetamine_2018_NL_daily = methamphetamine_2018[methamphetamine_2018['country'] == \"NL\"][['Daily mean']]\n",
    "methamphetamine_2018_NL_daily_mean = methamphetamine_2018_NL_daily.mean().iloc[0]\n",
    "\n",
    "methamphetamine_2019_NL_daily = methamphetamine_2019[methamphetamine_2019['country'] == \"NL\"][['Daily mean']]\n",
    "methamphetamine_2019_NL_daily_mean = methamphetamine_2019_NL_daily.mean().iloc[0]\n",
    "\n",
    "methamphetamine_2020_NL_daily = methamphetamine_2020[methamphetamine_2020['country'] == \"NL\"][['Daily mean']]\n",
    "methamphetamine_2020_NL_daily_mean = methamphetamine_2020_NL_daily.mean().iloc[0]\n",
    "\n",
    "methamphetamine_series = pd.Series([methamphetamine_2011_NL_daily_mean, methamphetamine_2012_NL_daily_mean, methamphetamine_2013_NL_daily_mean, methamphetamine_2014_NL_daily_mean, methamphetamine_2015_NL_daily_mean, methamphetamine_2016_NL_daily_mean, methamphetamine_2017_NL_daily_mean, methamphetamine_2018_NL_daily_mean, methamphetamine_2019_NL_daily_mean, methamphetamine_2020_NL_daily_mean])\n",
    "methamphetamine_series.index = yearIndex\n",
    "# plt.plot(methamphetamine_series)"
   ]
  },
  {
   "cell_type": "markdown",
   "metadata": {},
   "source": [
    "<h3>MDMA in NL Daily</h3>"
   ]
  },
  {
   "cell_type": "code",
   "execution_count": null,
   "metadata": {},
   "outputs": [],
   "source": [
    "MDMA_2011 = pd.read_csv('./sewerdata/emcdda/MDMA/WW-data-MDMA-2011.csv', delimiter=',')\n",
    "MDMA_2012 = pd.read_csv('./sewerdata/emcdda/MDMA/WW-data-MDMA-2012.csv', delimiter=',')\n",
    "MDMA_2013 = pd.read_csv('./sewerdata/emcdda/MDMA/WW-data-MDMA-2013.csv', delimiter=',')\n",
    "MDMA_2014 = pd.read_csv('./sewerdata/emcdda/MDMA/WW-data-MDMA-2014.csv', delimiter=',')\n",
    "MDMA_2015 = pd.read_csv('./sewerdata/emcdda/MDMA/WW-data-MDMA-2015.csv', delimiter=',')\n",
    "MDMA_2016 = pd.read_csv('./sewerdata/emcdda/MDMA/WW-data-MDMA-2016.csv', delimiter=',')\n",
    "MDMA_2017 = pd.read_csv('./sewerdata/emcdda/MDMA/WW-data-MDMA-2017.csv', delimiter=',')\n",
    "MDMA_2018 = pd.read_csv('./sewerdata/emcdda/MDMA/WW-data-MDMA-2018.csv', delimiter=',')\n",
    "MDMA_2019 = pd.read_csv('./sewerdata/emcdda/MDMA/WW-data-MDMA-2019.csv', delimiter=',')\n",
    "MDMA_2020 = pd.read_csv('./sewerdata/emcdda/MDMA/WW-data-MDMA-2020.csv', delimiter=',')\n",
    "\n",
    "MDMA_2011_NL_daily = MDMA_2011[MDMA_2011['country'] == \"NL\"][['Daily mean']]\n",
    "MDMA_2011_NL_daily_mean = MDMA_2011_NL_daily.mean().iloc[0]\n",
    "\n",
    "MDMA_2012_NL_daily = MDMA_2012[MDMA_2012['country'] == \"NL\"][['Daily mean']]\n",
    "MDMA_2012_NL_daily_mean = MDMA_2012_NL_daily.mean().iloc[0]\n",
    "\n",
    "MDMA_2013_NL_daily = MDMA_2013[MDMA_2013['country'] == \"NL\"][['Daily mean']]\n",
    "MDMA_2013_NL_daily_mean = MDMA_2013_NL_daily.mean().iloc[0]\n",
    "\n",
    "MDMA_2014_NL_daily = MDMA_2014[MDMA_2014['country'] == \"NL\"][['Daily mean']]\n",
    "MDMA_2014_NL_daily_mean = MDMA_2014_NL_daily.mean().iloc[0]\n",
    "\n",
    "MDMA_2015_NL_daily = MDMA_2015[MDMA_2015['country'] == \"NL\"][['Daily mean']]\n",
    "MDMA_2015_NL_daily_mean = MDMA_2015_NL_daily.mean().iloc[0]\n",
    "\n",
    "MDMA_2016_NL_daily = MDMA_2016[MDMA_2016['country'] == \"NL\"][['Daily mean']]\n",
    "MDMA_2016_NL_daily_mean = MDMA_2016_NL_daily.mean().iloc[0]\n",
    "\n",
    "MDMA_2017_NL_daily = MDMA_2017[MDMA_2017['country'] == \"NL\"][['Daily mean']]\n",
    "MDMA_2017_NL_daily_mean = MDMA_2017_NL_daily.mean().iloc[0]\n",
    "\n",
    "MDMA_2018_NL_daily = MDMA_2018[MDMA_2018['country'] == \"NL\"][['Daily mean']]\n",
    "MDMA_2018_NL_daily_mean = MDMA_2018_NL_daily.mean().iloc[0]\n",
    "\n",
    "MDMA_2019_NL_daily = MDMA_2019[MDMA_2019['country'] == \"NL\"][['Daily mean']]\n",
    "MDMA_2019_NL_daily_mean = MDMA_2019_NL_daily.mean().iloc[0]\n",
    "\n",
    "MDMA_2020_NL_daily = MDMA_2020[MDMA_2020['country'] == \"NL\"][['Daily mean']]\n",
    "MDMA_2020_NL_daily_mean = MDMA_2020_NL_daily.mean().iloc[0]\n",
    "\n",
    "MDMA_series = pd.Series([MDMA_2011_NL_daily_mean, MDMA_2012_NL_daily_mean, MDMA_2013_NL_daily_mean, MDMA_2014_NL_daily_mean, MDMA_2015_NL_daily_mean, MDMA_2016_NL_daily_mean, MDMA_2017_NL_daily_mean, MDMA_2018_NL_daily_mean, MDMA_2019_NL_daily_mean, MDMA_2020_NL_daily_mean])\n",
    "MDMA_series.index = yearIndex\n",
    "# plt.plot(MDMA_series)"
   ]
  },
  {
   "cell_type": "markdown",
   "metadata": {},
   "source": [
    "<h3>Cocaine in NL Daily</h3>"
   ]
  },
  {
   "cell_type": "code",
   "execution_count": null,
   "metadata": {},
   "outputs": [],
   "source": [
    "cocaine_2011 = pd.read_csv('./sewerdata/emcdda/cocaine/WW-data-cocaine-2011.csv', delimiter=',')\n",
    "cocaine_2012 = pd.read_csv('./sewerdata/emcdda/cocaine/WW-data-cocaine-2012.csv', delimiter=',')\n",
    "cocaine_2013 = pd.read_csv('./sewerdata/emcdda/cocaine/WW-data-cocaine-2013.csv', delimiter=',')\n",
    "cocaine_2014 = pd.read_csv('./sewerdata/emcdda/cocaine/WW-data-cocaine-2014.csv', delimiter=',')\n",
    "cocaine_2015 = pd.read_csv('./sewerdata/emcdda/cocaine/WW-data-cocaine-2015.csv', delimiter=',')\n",
    "cocaine_2016 = pd.read_csv('./sewerdata/emcdda/cocaine/WW-data-cocaine-2016.csv', delimiter=',')\n",
    "cocaine_2017 = pd.read_csv('./sewerdata/emcdda/cocaine/WW-data-cocaine-2017.csv', delimiter=',')\n",
    "cocaine_2018 = pd.read_csv('./sewerdata/emcdda/cocaine/WW-data-cocaine-2018.csv', delimiter=',')\n",
    "cocaine_2019 = pd.read_csv('./sewerdata/emcdda/cocaine/WW-data-cocaine-2019.csv', delimiter=',')\n",
    "cocaine_2020 = pd.read_csv('./sewerdata/emcdda/cocaine/WW-data-cocaine-2020.csv', delimiter=',')\n",
    "\n",
    "cocaine_2011_NL_daily = cocaine_2011[cocaine_2011['country'] == \"NL\"][['Daily mean']]\n",
    "cocaine_2011_NL_daily_mean = cocaine_2011_NL_daily.mean().iloc[0]\n",
    "\n",
    "cocaine_2012_NL_daily = cocaine_2012[cocaine_2012['country'] == \"NL\"][['Daily mean']]\n",
    "cocaine_2012_NL_daily_mean = cocaine_2012_NL_daily.mean().iloc[0]\n",
    "\n",
    "cocaine_2013_NL_daily = cocaine_2013[cocaine_2013['country'] == \"NL\"][['Daily mean']]\n",
    "cocaine_2013_NL_daily_mean = cocaine_2013_NL_daily.mean().iloc[0]\n",
    "\n",
    "cocaine_2014_NL_daily = cocaine_2014[cocaine_2014['country'] == \"NL\"][['Daily mean']]\n",
    "cocaine_2014_NL_daily_mean = cocaine_2014_NL_daily.mean().iloc[0]\n",
    "\n",
    "cocaine_2015_NL_daily = cocaine_2015[cocaine_2015['country'] == \"NL\"][['Daily mean']]\n",
    "cocaine_2015_NL_daily_mean = cocaine_2015_NL_daily.mean().iloc[0]\n",
    "\n",
    "cocaine_2016_NL_daily = cocaine_2016[cocaine_2016['country'] == \"NL\"][['Daily mean']]\n",
    "cocaine_2016_NL_daily_mean = cocaine_2016_NL_daily.mean().iloc[0]\n",
    "\n",
    "cocaine_2017_NL_daily = cocaine_2017[cocaine_2017['country'] == \"NL\"][['Daily mean']]\n",
    "cocaine_2017_NL_daily_mean = cocaine_2017_NL_daily.mean().iloc[0]\n",
    "\n",
    "cocaine_2018_NL_daily = cocaine_2018[cocaine_2018['country'] == \"NL\"][['Daily mean']]\n",
    "cocaine_2018_NL_daily_mean = cocaine_2018_NL_daily.mean().iloc[0]\n",
    "\n",
    "cocaine_2019_NL_daily = cocaine_2019[cocaine_2019['country'] == \"NL\"][['Daily mean']]\n",
    "cocaine_2019_NL_daily_mean = cocaine_2019_NL_daily.mean().iloc[0]\n",
    "\n",
    "cocaine_2020_NL_daily = cocaine_2020[cocaine_2020['country'] == \"NL\"][['Daily mean']]\n",
    "cocaine_2020_NL_daily_mean = cocaine_2020_NL_daily.mean().iloc[0]\n",
    "\n",
    "cocaine_series = pd.Series([cocaine_2011_NL_daily_mean, cocaine_2012_NL_daily_mean, cocaine_2013_NL_daily_mean, cocaine_2014_NL_daily_mean, cocaine_2015_NL_daily_mean, cocaine_2016_NL_daily_mean, cocaine_2017_NL_daily_mean, cocaine_2018_NL_daily_mean, cocaine_2019_NL_daily_mean, cocaine_2020_NL_daily_mean])\n",
    "cocaine_series.index = yearIndex\n",
    "# plt.plot(cocaine_series)"
   ]
  },
  {
   "cell_type": "code",
   "execution_count": null,
   "metadata": {},
   "outputs": [],
   "source": [
    "plt.plot(amphetamine_series, label = \"Amphetamines\")\n",
    "plt.plot(methamphetamine_series, label = \"Methamphetamines\")\n",
    "plt.plot(MDMA_series, label = \"MDMA\")\n",
    "plt.plot(cocaine_series, label = \"Cocaine\")\n",
    "plt.title(\"Sewage data of substance as doses/day/1000 inhabitants\")\n",
    "plt.rcParams['figure.figsize'] = [10, 10]\n",
    "plt.legend()\n",
    "plt.show()"
   ]
  },
  {
   "cell_type": "markdown",
   "metadata": {},
   "source": [
    "<h1>Combining figures to identify trends</h1>"
   ]
  },
  {
   "cell_type": "markdown",
   "metadata": {},
   "source": [
    "<h3>Following are queries for different drugs, precursors and pre-precursors to identify trends</h3>"
   ]
  },
  {
   "cell_type": "code",
   "execution_count": null,
   "metadata": {},
   "outputs": [],
   "source": [
    "print(\"Precursors:\")\n",
    "safrol_results = count_mentions(['safrol', 'isosafrol', 'safrool', 'isosafrool'])\n",
    "safrol_results.set_index('date', inplace=True)\n",
    "safrol_results.index = pd.to_datetime(safrol_results.index)\n",
    "monthly_safrol_results = safrol_results.resample('1M').sum()\n",
    "print('Safrol mentions:', monthly_safrol_results['count'].sum())\n",
    "\n",
    "piperonal_results = count_mentions(['piperonal', 'piperonalglycidaat'])\n",
    "piperonal_results.set_index('date', inplace=True)\n",
    "piperonal_results.index = pd.to_datetime(piperonal_results.index)\n",
    "monthly_piperonal_results = piperonal_results.resample('1M').sum()\n",
    "print('Piperonal mentions:', monthly_piperonal_results['count'].sum())\n",
    "\n",
    "PMK_results = count_mentions(['PMK','piperonylmethylketon'])\n",
    "PMK_results.set_index('date', inplace=True)\n",
    "PMK_results.index = pd.to_datetime(PMK_results.index)\n",
    "monthly_PMK_results = PMK_results.resample('1M').sum()\n",
    "print('PMK mentions:', monthly_PMK_results['count'].sum())\n",
    "\n",
    "BMK_results = count_mentions(['BMK', 'BenzylMethylKeton'])\n",
    "BMK_results.set_index('date', inplace=True)\n",
    "BMK_results.index = pd.to_datetime(BMK_results.index)\n",
    "monthly_BMK_results = BMK_results.resample('1M').sum()\n",
    "print('BMK mentions:', monthly_BMK_results['count'].sum())\n",
    "\n",
    "apaan_results = count_mentions(['apaan','Alpha-Phenylacetoacetonitrile', 'AlphaPhenylacetoacetonitrile'])\n",
    "apaan_results.set_index('date', inplace=True)\n",
    "apaan_results.index = pd.to_datetime(apaan_results.index)\n",
    "monthly_apaan_results = apaan_results.resample('1M').sum()\n",
    "print('Apaan mentions:', monthly_apaan_results['count'].sum())\n",
    "\n",
    "GBL_results = count_mentions(['GBL', 'Gamma-butyrolacton'])\n",
    "GBL_results.set_index('date', inplace=True)\n",
    "GBL_results.index = pd.to_datetime(GBL_results.index)\n",
    "monthly_GBL_results = GBL_results.resample('1M').sum()\n",
    "print('GBL mentions:', monthly_GBL_results['count'].sum())\n",
    "\n",
    "MDP2P_results = count_mentions(['MDP2P'])\n",
    "MDP2P_results.set_index('date', inplace=True)\n",
    "MDP2P_results.index = pd.to_datetime(MDP2P_results.index)\n",
    "monthly_MDP2P_results = MDP2P_results.resample('1M').sum()\n",
    "print('MDP2P mentions:', monthly_MDP2P_results['count'].sum())\n",
    "\n",
    "efedrine_results = count_mentions(['Efedrine', 'Ephedrine'])\n",
    "efedrine_results.set_index('date', inplace=True)\n",
    "efedrine_results.index = pd.to_datetime(efedrine_results.index)\n",
    "monthly_efedrine_results = efedrine_results.resample('1M').sum()\n",
    "print('Efedrine mentions:', monthly_efedrine_results['count'].sum())\n",
    "\n",
    "ergotamine_results = count_mentions(['Ergotamine'])\n",
    "ergotamine_results.set_index('date', inplace=True)\n",
    "ergotamine_results.index = pd.to_datetime(ergotamine_results.index)\n",
    "monthly_ergotamine_results = ergotamine_results.resample('1M').sum()\n",
    "print('Ergotamine mentions:', monthly_ergotamine_results['count'].sum())\n",
    "\n",
    "lyserginezuur_results = count_mentions(['Lyserginezuur'])\n",
    "lyserginezuur_results.set_index('date', inplace=True)\n",
    "lyserginezuur_results.index = pd.to_datetime(lyserginezuur_results.index)\n",
    "monthly_lyserginezuur_results = lyserginezuur_results.resample('1M').sum()\n",
    "print('Lyserginezuur mentions:', monthly_lyserginezuur_results['count'].sum())\n",
    "\n",
    "print(\"Drugs:\")\n",
    "methamphetamine_results = count_mentions(['Methamfetamine', 'Methamphetamine'])\n",
    "methamphetamine_results.set_index('date', inplace=True)\n",
    "methamphetamine_results.index = pd.to_datetime(methamphetamine_results.index)\n",
    "monthly_methamphetamine_results = methamphetamine_results.resample('1M').sum()\n",
    "print('Methamphetamine mentions:', monthly_methamphetamine_results['count'].sum())\n",
    "\n",
    "mdma_results = count_mentions(['MDMA', 'Methylenedioxymethamphetamine'])\n",
    "mdma_results.set_index('date', inplace=True)\n",
    "mdma_results.index = pd.to_datetime(mdma_results.index)\n",
    "monthly_mdma_results = mdma_results.resample('1M').sum()\n",
    "print('MDMA mentions:', monthly_mdma_results['count'].sum())\n",
    "\n",
    "amphetamine_results = count_mentions(['Amfetamine', 'Amphetamine'])\n",
    "amphetamine_results.set_index('date', inplace=True)\n",
    "amphetamine_results.index = pd.to_datetime(amphetamine_results.index)\n",
    "monthly_amphetamine_results = amphetamine_results.resample('1M').sum()\n",
    "print('Amphetamine mentions:', monthly_amphetamine_results['count'].sum())\n",
    "\n",
    "cocaine_results = count_mentions(['Cocaïne', 'Cocaine', 'Coke'])\n",
    "cocaine_results.set_index('date', inplace=True)\n",
    "cocaine_results.index = pd.to_datetime(cocaine_results.index)\n",
    "monthly_cocaine_results = cocaine_results.resample('1M').sum()\n",
    "print('Cocaine mentions:', monthly_cocaine_results['count'].sum())\n",
    "\n",
    "xtc_results = count_mentions(['XTC', 'ecstasy'])\n",
    "xtc_results.set_index('date', inplace=True)\n",
    "xtc_results.index = pd.to_datetime(xtc_results.index)\n",
    "monthly_xtc_results = xtc_results.resample('1M').sum()\n",
    "print('XTC mentions:', monthly_xtc_results['count'].sum())\n",
    "\n",
    "ghb_results = count_mentions(xt)\n",
    "ghb_results.set_index('date', inplace=True)\n",
    "ghb_results.index = pd.to_datetime(xtc_results.index)\n",
    "monthly_ghb_results = xtc_results.resample('1M').sum()\n",
    "print('GHB mentions:', monthly_xtc_results['count'].sum())"
   ]
  },
  {
   "cell_type": "code",
   "execution_count": null,
   "metadata": {},
   "outputs": [],
   "source": [
    "amphetamine_series.index = pd.to_datetime(amphetamine_series.index)\n",
    "methamphetamine_series.index = pd.to_datetime(methamphetamine_series.index)\n",
    "MDMA_series.index = pd.to_datetime(MDMA_series.index)\n",
    "cocaine_series.index = pd.to_datetime(cocaine_series.index)\n"
   ]
  },
  {
   "cell_type": "markdown",
   "metadata": {},
   "source": [
    "<h3>Plotting</h3>\n",
    "Skipped records = 220 for beginning of mentions and 380 for inline with sewage"
   ]
  },
  {
   "cell_type": "code",
   "execution_count": null,
   "metadata": {},
   "outputs": [],
   "source": [
    "plt.rcParams['figure.figsize'] = [20, 20]\n",
    "rolling_mean_window = 12\n",
    "skipped_records = 220\n",
    "\n",
    "plt.plot(monthly_safrol_results.rolling(window=rolling_mean_window).mean()[skipped_records:], label=\"Safrol mentions\")\n",
    "plt.plot(monthly_piperonal_results.rolling(window=rolling_mean_window).mean()[skipped_records:], label=\"Piperonal mentions\")\n",
    "plt.plot(monthly_PMK_results.rolling(window=rolling_mean_window).mean()[skipped_records:], label=\"PMK mentions\")\n",
    "plt.plot(monthly_BMK_results.rolling(window=rolling_mean_window).mean()[skipped_records:], label=\"BMK mentions\")\n",
    "plt.plot(monthly_apaan_results.rolling(window=rolling_mean_window).mean()[skipped_records:], label=\"Apaan mentions\")\n",
    "plt.plot(monthly_GBL_results.rolling(window=rolling_mean_window).mean()[skipped_records:], label=\"GBL mentions\")\n",
    "plt.plot(monthly_methamphetamine_results.rolling(window=rolling_mean_window).mean()[skipped_records:], label=\"Methamphetamine mentions\")\n",
    "plt.plot(monthly_mdma_results.rolling(window=rolling_mean_window).mean()[skipped_records:], label=\"MDMA mentions\")\n",
    "plt.plot(monthly_MDP2P_results.rolling(window=rolling_mean_window).mean()[skipped_records:], label=\"MDP2P mentions\")\n",
    "plt.plot(monthly_amphetamine_results.rolling(window=rolling_mean_window).mean()[skipped_records:], label=\"Amphetamine mentions\")\n",
    "plt.plot(monthly_cocaine_results.rolling(window=rolling_mean_window).mean()[skipped_records:], label=\"Cocaine mentions\")\n",
    "plt.plot(monthly_xtc_results.rolling(window=rolling_mean_window).mean()[skipped_records:], label=\"XTC mentions\")\n",
    "\n",
    "plt.plot(amphetamine_series, label = \"Amphetamines in sewage\")\n",
    "plt.plot(methamphetamine_series, label = \"Methamphetamines in sewage\")\n",
    "plt.plot(MDMA_series, label = \"MDMA in sewage\")\n",
    "plt.plot(cocaine_series, label = \"Cocaine in sewage\")\n",
    "\n",
    "plt.legend()\n",
    "plt.show()\n",
    "\n",
    "\n"
   ]
  },
  {
   "cell_type": "code",
   "execution_count": null,
   "metadata": {},
   "outputs": [],
   "source": [
    "plt.rcParams['figure.figsize'] = [20, 10]\n",
    "plt.plot(monthly_amphetamine_results.rolling(window=6).mean()[220:], label='Amphetamine Mentions')\n",
    "plt.plot(amphetamine_series, label='Amphetamine found in sewage')\n",
    "plt.legend()\n",
    "plt.show()"
   ]
  },
  {
   "cell_type": "code",
   "execution_count": null,
   "metadata": {},
   "outputs": [],
   "source": []
  },
  {
   "cell_type": "markdown",
   "metadata": {},
   "source": [
    "<h3>Main precursors and pre-precursors</h3>"
   ]
  },
  {
   "cell_type": "code",
   "execution_count": null,
   "metadata": {},
   "outputs": [],
   "source": [
    "plt.rcParams['figure.figsize'] = [10, 10]\n",
    "plt.plot(monthly_PMK_results.rolling(window=rolling_mean_window).mean()[skipped_records:], label=\"PMK mentions\")\n",
    "plt.plot(monthly_BMK_results.rolling(window=rolling_mean_window).mean()[skipped_records:], label=\"BMK mentions\")\n",
    "plt.legend()\n",
    "plt.show()"
   ]
  },
  {
   "cell_type": "code",
   "execution_count": null,
   "metadata": {},
   "outputs": [],
   "source": [
    "plt.plot(monthly_safrol_results.rolling(window=rolling_mean_window).mean()[skipped_records:], label=\"Safrol mentions\")\n",
    "plt.plot(monthly_piperonal_results.rolling(window=rolling_mean_window).mean()[skipped_records:], label=\"Piperonal mentions\")\n",
    "plt.plot(monthly_apaan_results.rolling(window=rolling_mean_window).mean()[skipped_records:], label=\"Apaan mentions\")\n",
    "plt.plot(monthly_GBL_results.rolling(window=rolling_mean_window).mean()[skipped_records:], label=\"GBL mentions\")\n",
    "plt.plot(monthly_efedrine_results.rolling(window=rolling_mean_window).mean()[skipped_records:], label=\"Efedrine mentions\")\n",
    "\n",
    "plt.legend()\n",
    "plt.show()"
   ]
  },
  {
   "cell_type": "markdown",
   "metadata": {},
   "source": [
    "<h1>TF-IDF and K-Means</h1>"
   ]
  },
  {
   "cell_type": "markdown",
   "metadata": {},
   "source": [
    "<h2>TF-IDF</h2>\n",
    "Each term is weighted by dividing the term frequency by the number of documents in the corpus containing the word "
   ]
  },
  {
   "cell_type": "code",
   "execution_count": null,
   "metadata": {},
   "outputs": [],
   "source": [
    "from sklearn.feature_extraction.text import TfidfVectorizer\n",
    "import nltk\n",
    "from nltk.corpus import stopwords\n",
    "nltk.download('stopwords')\n",
    "\n",
    "documents = merged_df[\"Case Text\"]\n",
    "total_stop_words = stopwords.words('dutch') + stopwords.words('english')\n",
    "vectorizer = TfidfVectorizer(max_df=0.05, min_df=10, stop_words=total_stop_words , use_idf=True,  lowercase=True)\n",
    "X = vectorizer.fit_transform(documents)\n",
    "X = X.astype('float32')\n"
   ]
  },
  {
   "cell_type": "code",
   "execution_count": null,
   "metadata": {},
   "outputs": [],
   "source": []
  },
  {
   "cell_type": "markdown",
   "metadata": {},
   "source": [
    "<h2>K-means Clustering using PCA</h2>"
   ]
  },
  {
   "cell_type": "code",
   "execution_count": null,
   "metadata": {},
   "outputs": [],
   "source": [
    "from sklearn.decomposition import PCA\n",
    "from sklearn.cluster import KMeans\n",
    "\n",
    "true_k = 25\n",
    "model = KMeans(n_clusters=true_k, init='k-means++', max_iter=200)\n",
    "\n",
    "labels = model.fit_predict(X)\n",
    "merged_df[\"K means cluster\"] = labels\n",
    "\n",
    "X_array = X.toarray()\n",
    "pca = PCA(n_components=2).fit(X_array)\n",
    "XPCA = pca.transform(X_array)\n",
    "\n",
    "u_labels = np.unique(labels)\n",
    "for i in u_labels:\n",
    "    plt.scatter(XPCA[labels == i , 0] , XPCA[labels == i , 1] , label = i)\n",
    "plt.legend()\n",
    "plt.show()"
   ]
  },
  {
   "cell_type": "code",
   "execution_count": null,
   "metadata": {},
   "outputs": [],
   "source": []
  },
  {
   "cell_type": "markdown",
   "metadata": {},
   "source": [
    "<h3>Get top terms per cluster</h3>"
   ]
  },
  {
   "cell_type": "code",
   "execution_count": null,
   "metadata": {},
   "outputs": [],
   "source": [
    "order_centroids = model.cluster_centers_.argsort()[:, ::-1]\n",
    "terms = vectorizer.get_feature_names()\n",
    "terms_df = pd.DataFrame()\n",
    "for i in range(true_k):\n",
    "    curr = []\n",
    "    for ind in order_centroids[i, :10]:\n",
    "        curr.append(terms[ind])\n",
    "    terms_df[i] = curr\n",
    "\n",
    "print(terms_df)\n",
    "terms_df.to_csv(\"kmeans/K-means top terms per cluster \" + str(true_k) + \" clusters.csv\")\n"
   ]
  },
  {
   "cell_type": "code",
   "execution_count": null,
   "metadata": {},
   "outputs": [],
   "source": []
  },
  {
   "cell_type": "code",
   "execution_count": null,
   "metadata": {},
   "outputs": [],
   "source": []
  },
  {
   "cell_type": "code",
   "execution_count": null,
   "metadata": {},
   "outputs": [],
   "source": []
  },
  {
   "cell_type": "code",
   "execution_count": null,
   "metadata": {},
   "outputs": [],
   "source": []
  },
  {
   "cell_type": "code",
   "execution_count": null,
   "metadata": {},
   "outputs": [],
   "source": [
    "term_dict = {\"safrol\": ['safrol', 'isosafrol', 'safrool', 'isosafrool'],\n",
    "\"piperonal\": ['piperonal', 'piperonalglycidaat'],\n",
    "\"PMK\": ['PMK','piperonylmethylketon'],\n",
    "\"BMK\": ['BMK', 'BenzylMethylKeton'],\n",
    "\"apaan\": ['apaan','Alpha-Phenylacetoacetonitrile', 'AlphaPhenylacetoacetonitrile'],\n",
    "\"GBL\": ['GBL', 'Gamma-butyrolacton'],\n",
    "\"MDP2P\": ['MDP2P'],\n",
    "\"efedrine\": ['Efedrine', 'Ephedrine'],\n",
    "\"ergotamine\": ['Ergotamine'],\n",
    "\"lyserginezuur\": ['Lyserginezuur'],\n",
    "\n",
    "\n",
    "\"methamphetamine\": ['Methamfetamine', 'Methamphetamine'],\n",
    "\"MDMA\": ['MDMA', 'Methylenedioxymethamphetamine'],\n",
    "\"amphetamine\": ['Amfetamine', 'Amphetamine'],\n",
    "\"cocaine\": ['Cocaïne', 'Cocaine', 'Coke'],\n",
    "\"XTC\": ['XTC', 'ecstasy'],\n",
    "\"GHB\": ['GHB', 'gamma-hydroxyboterzuur', '4-hydroxybutaanzuur']\n",
    "}"
   ]
  },
  {
   "cell_type": "code",
   "execution_count": null,
   "metadata": {},
   "outputs": [],
   "source": [
    "options = []\n",
    "def get_options():\n",
    "    for key in term_dict:\n",
    "        globals()[key + \"_results\"] = []\n",
    "        curr = {'label': key, 'value': key}\n",
    "        options.append(curr)\n",
    "    print('return', len(options))\n",
    "    return options\n",
    "get_options()"
   ]
  },
  {
   "cell_type": "code",
   "execution_count": null,
   "metadata": {},
   "outputs": [],
   "source": [
    "print(options.values())\n"
   ]
  }
 ],
 "metadata": {
  "kernelspec": {
   "display_name": "Python 3",
   "language": "python",
   "name": "python3"
  },
  "language_info": {
   "codemirror_mode": {
    "name": "ipython",
    "version": 3
   },
   "file_extension": ".py",
   "mimetype": "text/x-python",
   "name": "python",
   "nbconvert_exporter": "python",
   "pygments_lexer": "ipython3",
   "version": "3.9.9"
  }
 },
 "nbformat": 4,
 "nbformat_minor": 4
}
